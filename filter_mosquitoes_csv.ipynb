{
 "cells": [
  {
   "cell_type": "code",
   "execution_count": 4,
   "metadata": {
    "collapsed": false
   },
   "outputs": [],
   "source": [
    "import pandas as pd\n",
    "\n",
    "#TODO: replace this path with the path to the file on your environment\n",
    "csv_file_path = '../data/MosquitoData/Kraemer2015/Dataset/aegypti_albopictusKraemer2015.csv'"
   ]
  },
  {
   "cell_type": "code",
   "execution_count": 7,
   "metadata": {
    "collapsed": true
   },
   "outputs": [],
   "source": [
    "def extract_mosquito_data(csv_file, country_id, min_year, species):\n",
    "    print('extracting mosquito data...')\n",
    "    \n",
    "    df = pd.read_csv(csv_file, header=0, sep=\",\")\n",
    "    df = df.dropna(subset=['YEAR'])\n",
    "    df = df[df['YEAR'] != '2006-2008']\n",
    "    df = df.apply(lambda x: pd.to_numeric(x, errors='ignore'))\n",
    "    df = df[df['YEAR'] > min_year]\n",
    "    df = df[df['COUNTRY_ID'] == country_id]\n",
    "    df = df[df['VECTOR'] == species]\n",
    "    \n",
    "    filename = '{0}_{1}_{2}.csv'.format(country_id, min_year, species.split()[1])\n",
    "    print('exporting to file {0}'.format(filename))\n",
    "    \n",
    "    df.to_csv(filename)"
   ]
  },
  {
   "cell_type": "code",
   "execution_count": 28,
   "metadata": {
    "collapsed": false
   },
   "outputs": [
    {
     "name": "stdout",
     "output_type": "stream",
     "text": [
      "extracting mosquito data...\n",
      "exporting to file THA_2000_aegypti.csv\n",
      "extracting mosquito data...\n",
      "exporting to file THA_2000_albopictus.csv\n"
     ]
    }
   ],
   "source": [
    "extract_mosquito_data(csv_file_path, 'THA', 2000, 'Aedes aegypti')\n",
    "extract_mosquito_data(csv_file_path, 'THA', 2000, 'Aedes albopictus')"
   ]
  },
  {
   "cell_type": "code",
   "execution_count": 8,
   "metadata": {
    "collapsed": false
   },
   "outputs": [
    {
     "name": "stdout",
     "output_type": "stream",
     "text": [
      "extracting mosquito data...\n",
      "exporting to file IND_2006_aegypti.csv\n",
      "extracting mosquito data...\n",
      "exporting to file IND_2006_albopictus.csv\n"
     ]
    }
   ],
   "source": [
    "extract_mosquito_data(csv_file_path, 'IND', 2006, 'Aedes aegypti')\n",
    "extract_mosquito_data(csv_file_path, 'IND', 2006, 'Aedes albopictus')"
   ]
  },
  {
   "cell_type": "code",
   "execution_count": null,
   "metadata": {
    "collapsed": true
   },
   "outputs": [],
   "source": []
  }
 ],
 "metadata": {
  "kernelspec": {
   "display_name": "Python 3",
   "language": "python",
   "name": "python3"
  },
  "language_info": {
   "codemirror_mode": {
    "name": "ipython",
    "version": 3
   },
   "file_extension": ".py",
   "mimetype": "text/x-python",
   "name": "python",
   "nbconvert_exporter": "python",
   "pygments_lexer": "ipython3",
   "version": "3.5.2"
  }
 },
 "nbformat": 4,
 "nbformat_minor": 1
}
