{
 "cells": [
  {
   "cell_type": "code",
   "execution_count": 37,
   "metadata": {
    "collapsed": true
   },
   "outputs": [],
   "source": [
    "import pandas as pd\n",
    "import csv\n",
    "from datetime import datetime\n",
    "\n",
    "csv_file_path = 'promed data/PDengue3.csv'"
   ]
  },
  {
   "cell_type": "code",
   "execution_count": 39,
   "metadata": {
    "collapsed": false
   },
   "outputs": [
    {
     "data": {
      "text/html": [
       "<div>\n",
       "<table border=\"1\" class=\"dataframe\">\n",
       "  <thead>\n",
       "    <tr style=\"text-align: right;\">\n",
       "      <th></th>\n",
       "      <th>idx</th>\n",
       "      <th>index</th>\n",
       "      <th>alert_id</th>\n",
       "      <th>title</th>\n",
       "      <th>issue_date</th>\n",
       "      <th>post_text</th>\n",
       "      <th>disease</th>\n",
       "      <th>place</th>\n",
       "      <th>lat</th>\n",
       "      <th>lng</th>\n",
       "    </tr>\n",
       "  </thead>\n",
       "  <tbody>\n",
       "    <tr>\n",
       "      <th>0</th>\n",
       "      <td>0.0</td>\n",
       "      <td>125.0</td>\n",
       "      <td>113.0</td>\n",
       "      <td>PRO&gt; Official secrets and public health</td>\n",
       "      <td>1998-06-22 23:50:00</td>\n",
       "      <td>about ISID | membership | programs | publicat...</td>\n",
       "      <td>Dengue</td>\n",
       "      <td>Cuba</td>\n",
       "      <td>21.62117</td>\n",
       "      <td>-79.036346</td>\n",
       "    </tr>\n",
       "    <tr>\n",
       "      <th>1</th>\n",
       "      <td>1.0</td>\n",
       "      <td>1005.0</td>\n",
       "      <td>636.0</td>\n",
       "      <td>PRO/EDR&gt; Dengue/DHF update 2004 (15)</td>\n",
       "      <td>2004-05-29 23:50:00</td>\n",
       "      <td>about ISID | membership | programs | publicat...</td>\n",
       "      <td>Dengue</td>\n",
       "      <td>Sri Lanka</td>\n",
       "      <td>7.60809</td>\n",
       "      <td>80.704727</td>\n",
       "    </tr>\n",
       "    <tr>\n",
       "      <th>2</th>\n",
       "      <td>2.0</td>\n",
       "      <td>1006.0</td>\n",
       "      <td>636.0</td>\n",
       "      <td>PRO/EDR&gt; Dengue/DHF update 2004 (15)</td>\n",
       "      <td>2004-05-29 23:50:00</td>\n",
       "      <td>about ISID | membership | programs | publicat...</td>\n",
       "      <td>Dengue</td>\n",
       "      <td>Venezuela</td>\n",
       "      <td>7.12245</td>\n",
       "      <td>-66.169563</td>\n",
       "    </tr>\n",
       "    <tr>\n",
       "      <th>3</th>\n",
       "      <td>3.0</td>\n",
       "      <td>1007.0</td>\n",
       "      <td>636.0</td>\n",
       "      <td>PRO/EDR&gt; Dengue/DHF update 2004 (15)</td>\n",
       "      <td>2004-05-29 23:50:00</td>\n",
       "      <td>about ISID | membership | programs | publicat...</td>\n",
       "      <td>Dengue</td>\n",
       "      <td>Indonesia</td>\n",
       "      <td>-2.63580</td>\n",
       "      <td>120.937500</td>\n",
       "    </tr>\n",
       "    <tr>\n",
       "      <th>4</th>\n",
       "      <td>4.0</td>\n",
       "      <td>1008.0</td>\n",
       "      <td>636.0</td>\n",
       "      <td>PRO/EDR&gt; Dengue/DHF update 2004 (15)</td>\n",
       "      <td>2004-05-29 23:50:00</td>\n",
       "      <td>about ISID | membership | programs | publicat...</td>\n",
       "      <td>Dengue</td>\n",
       "      <td>India</td>\n",
       "      <td>22.88348</td>\n",
       "      <td>79.616203</td>\n",
       "    </tr>\n",
       "  </tbody>\n",
       "</table>\n",
       "</div>"
      ],
      "text/plain": [
       "   idx   index  alert_id                                    title  \\\n",
       "0  0.0   125.0     113.0  PRO> Official secrets and public health   \n",
       "1  1.0  1005.0     636.0     PRO/EDR> Dengue/DHF update 2004 (15)   \n",
       "2  2.0  1006.0     636.0     PRO/EDR> Dengue/DHF update 2004 (15)   \n",
       "3  3.0  1007.0     636.0     PRO/EDR> Dengue/DHF update 2004 (15)   \n",
       "4  4.0  1008.0     636.0     PRO/EDR> Dengue/DHF update 2004 (15)   \n",
       "\n",
       "           issue_date                                          post_text  \\\n",
       "0 1998-06-22 23:50:00   about ISID | membership | programs | publicat...   \n",
       "1 2004-05-29 23:50:00   about ISID | membership | programs | publicat...   \n",
       "2 2004-05-29 23:50:00   about ISID | membership | programs | publicat...   \n",
       "3 2004-05-29 23:50:00   about ISID | membership | programs | publicat...   \n",
       "4 2004-05-29 23:50:00   about ISID | membership | programs | publicat...   \n",
       "\n",
       "  disease      place       lat         lng  \n",
       "0  Dengue       Cuba  21.62117  -79.036346  \n",
       "1  Dengue  Sri Lanka   7.60809   80.704727  \n",
       "2  Dengue  Venezuela   7.12245  -66.169563  \n",
       "3  Dengue  Indonesia  -2.63580  120.937500  \n",
       "4  Dengue      India  22.88348   79.616203  "
      ]
     },
     "execution_count": 39,
     "metadata": {},
     "output_type": "execute_result"
    }
   ],
   "source": [
    "df = pd.read_csv(csv_file_path, names=['idx', 'index', 'alert_id', 'title', 'issue_date', 'post_text', 'disease', 'place', 'lat', 'lng'], header=0, sep=',', parse_dates=[4], quoting=csv.QUOTE_NONNUMERIC)\n",
    "df.head()"
   ]
  },
  {
   "cell_type": "code",
   "execution_count": 60,
   "metadata": {
    "collapsed": false
   },
   "outputs": [
    {
     "name": "stdout",
     "output_type": "stream",
     "text": [
      "125\n"
     ]
    }
   ],
   "source": [
    "#filter the tweets that are not in South or Central America\n",
    "df['lat'] = df['lat'].astype('float64')\n",
    "df['lng'] = df['lng'].astype('float64')\n",
    "df['issue_date'] = pd.to_datetime(df['issue_date'], format='%Y-%m-%d %H:%M:%S')\n",
    "\n",
    "df.set_index('idx')\n",
    "\n",
    "df = df[df['lat'] < 23]\n",
    "df = df[df['lat'] > -56]\n",
    "df = df[df['lng'] < -34]\n",
    "df = df[df['lng'] > -107]\n",
    "\n",
    "df = df[df['issue_date'] > datetime(2016,1,1)]\n",
    "\n",
    "print(df['idx'].count())"
   ]
  },
  {
   "cell_type": "code",
   "execution_count": 61,
   "metadata": {
    "collapsed": false
   },
   "outputs": [
    {
     "data": {
      "text/html": [
       "<div>\n",
       "<table border=\"1\" class=\"dataframe\">\n",
       "  <thead>\n",
       "    <tr style=\"text-align: right;\">\n",
       "      <th></th>\n",
       "      <th>idx</th>\n",
       "      <th>index</th>\n",
       "      <th>alert_id</th>\n",
       "      <th>title</th>\n",
       "      <th>issue_date</th>\n",
       "      <th>post_text</th>\n",
       "      <th>disease</th>\n",
       "      <th>place</th>\n",
       "      <th>lat</th>\n",
       "      <th>lng</th>\n",
       "    </tr>\n",
       "  </thead>\n",
       "  <tbody>\n",
       "    <tr>\n",
       "      <th>5315</th>\n",
       "      <td>7058.0</td>\n",
       "      <td>85584.0</td>\n",
       "      <td>4432070.0</td>\n",
       "      <td>PRO/EDR&gt; Dengue/DHF update (26): Americas</td>\n",
       "      <td>2016-08-22 15:42:00</td>\n",
       "      <td>DENGUE/DHF UPDATE (26): AMERICAS *************...</td>\n",
       "      <td>Dengue</td>\n",
       "      <td>Barbados</td>\n",
       "      <td>13.178710</td>\n",
       "      <td>-59.561951</td>\n",
       "    </tr>\n",
       "    <tr>\n",
       "      <th>5309</th>\n",
       "      <td>7052.0</td>\n",
       "      <td>85578.0</td>\n",
       "      <td>4432070.0</td>\n",
       "      <td>PRO/EDR&gt; Dengue/DHF update (26): Americas</td>\n",
       "      <td>2016-08-22 15:42:00</td>\n",
       "      <td>DENGUE/DHF UPDATE (26): AMERICAS *************...</td>\n",
       "      <td>Dengue</td>\n",
       "      <td>Colombia</td>\n",
       "      <td>3.901160</td>\n",
       "      <td>-73.073372</td>\n",
       "    </tr>\n",
       "    <tr>\n",
       "      <th>5305</th>\n",
       "      <td>7048.0</td>\n",
       "      <td>85574.0</td>\n",
       "      <td>4432070.0</td>\n",
       "      <td>PRO/EDR&gt; Dengue/DHF update (26): Americas</td>\n",
       "      <td>2016-08-22 15:42:00</td>\n",
       "      <td>DENGUE/DHF UPDATE (26): AMERICAS *************...</td>\n",
       "      <td>Dengue</td>\n",
       "      <td>Puerto Rico</td>\n",
       "      <td>18.251301</td>\n",
       "      <td>-66.501404</td>\n",
       "    </tr>\n",
       "    <tr>\n",
       "      <th>5298</th>\n",
       "      <td>7041.0</td>\n",
       "      <td>85567.0</td>\n",
       "      <td>4432070.0</td>\n",
       "      <td>PRO/EDR&gt; Dengue/DHF update (26): Americas</td>\n",
       "      <td>2016-08-22 15:42:00</td>\n",
       "      <td>DENGUE/DHF UPDATE (26): AMERICAS *************...</td>\n",
       "      <td>Dengue</td>\n",
       "      <td>Costa Rica</td>\n",
       "      <td>9.970200</td>\n",
       "      <td>-84.187943</td>\n",
       "    </tr>\n",
       "    <tr>\n",
       "      <th>5299</th>\n",
       "      <td>7042.0</td>\n",
       "      <td>85568.0</td>\n",
       "      <td>4432070.0</td>\n",
       "      <td>PRO/EDR&gt; Dengue/DHF update (26): Americas</td>\n",
       "      <td>2016-08-22 15:42:00</td>\n",
       "      <td>DENGUE/DHF UPDATE (26): AMERICAS *************...</td>\n",
       "      <td>Dengue</td>\n",
       "      <td>Nicaragua</td>\n",
       "      <td>12.839910</td>\n",
       "      <td>-85.034782</td>\n",
       "    </tr>\n",
       "  </tbody>\n",
       "</table>\n",
       "</div>"
      ],
      "text/plain": [
       "         idx    index   alert_id                                      title  \\\n",
       "5315  7058.0  85584.0  4432070.0  PRO/EDR> Dengue/DHF update (26): Americas   \n",
       "5309  7052.0  85578.0  4432070.0  PRO/EDR> Dengue/DHF update (26): Americas   \n",
       "5305  7048.0  85574.0  4432070.0  PRO/EDR> Dengue/DHF update (26): Americas   \n",
       "5298  7041.0  85567.0  4432070.0  PRO/EDR> Dengue/DHF update (26): Americas   \n",
       "5299  7042.0  85568.0  4432070.0  PRO/EDR> Dengue/DHF update (26): Americas   \n",
       "\n",
       "              issue_date                                          post_text  \\\n",
       "5315 2016-08-22 15:42:00  DENGUE/DHF UPDATE (26): AMERICAS *************...   \n",
       "5309 2016-08-22 15:42:00  DENGUE/DHF UPDATE (26): AMERICAS *************...   \n",
       "5305 2016-08-22 15:42:00  DENGUE/DHF UPDATE (26): AMERICAS *************...   \n",
       "5298 2016-08-22 15:42:00  DENGUE/DHF UPDATE (26): AMERICAS *************...   \n",
       "5299 2016-08-22 15:42:00  DENGUE/DHF UPDATE (26): AMERICAS *************...   \n",
       "\n",
       "     disease        place        lat        lng  \n",
       "5315  Dengue     Barbados  13.178710 -59.561951  \n",
       "5309  Dengue     Colombia   3.901160 -73.073372  \n",
       "5305  Dengue  Puerto Rico  18.251301 -66.501404  \n",
       "5298  Dengue   Costa Rica   9.970200 -84.187943  \n",
       "5299  Dengue    Nicaragua  12.839910 -85.034782  "
      ]
     },
     "execution_count": 61,
     "metadata": {},
     "output_type": "execute_result"
    }
   ],
   "source": [
    "df = df.sort_values(by='issue_date', ascending=False)\n",
    "df.head()"
   ]
  },
  {
   "cell_type": "code",
   "execution_count": 65,
   "metadata": {
    "collapsed": false
   },
   "outputs": [
    {
     "name": "stdout",
     "output_type": "stream",
     "text": [
      "DENGUE/DHF UPDATE (26): AMERICAS ******************************** A ProMED-mail post ProMED-mail is a program of the International Society for Infectious Diseases In this update: [1] Cases in various countries: Americas regional --- Cases in various countries not mentioned above or more recent case numbers. Mexico and Central America --- Mexico - National - Tamaulipas state - Michoac�n state Costa Rica (national) Nicaragua (national) Caribbean --- Barbados (national) South America --- Argentina - National - Entre R�os province Bolivia (national) Brazil (Paran� state) Paraguay (national) Peru (Piura region) [2] Climate and outbreaks -***** [1] Cases in various countries Americas --- Americas regional WHO/PAHO report 5 Aug 2016 Reported cases of dengue fever in the Americas, by country or territory to [EW 29 of 2016 -- week ending (w/e) 22 Jul 2016]. Cases reported earlier than EW 27 [w/e 8 Jul 2016] are not included here, but are available at the URL above. ---------------------------------------------------------------------- Cases by Country / Week updated / Probable / Conf. / Virus type / DHF severe / Deaths North America USA / 29 [w/e 22 Jul 2016] / 341 / 341 / D? / 0 / 0 Central America and Mexico Costa Rica / 28 [w/e 15 Jul 2016] / 10 884 / 0 / D 1,2, / 0 / 0 El Salvador / 28 [w/e 15 Jul 2016] / 6291 / 71 / D2 / 153 / 1 Guatemala / 27 [w/e 8 Jul 2015] / 4049 / 326 / D 1,2,3,4 / 23 / 0 Honduras / 28 [w/e 15 Jul 2016] / 16 863 / 86 / D? / 222 / 1 Mexico / 29 [w/e 22 Jul 2016] / 41 986 / 5802 / D 1,2,3,4 / 1393 / 10 Hispanic Caribbean Dominican Republic / 27 [w/e 8 Jul 2016] / 5374 / 0 / D? / 552 / 28 Puerto Rico / 29 / [w/e 22 Jul 2016] / 21 305 / 141 / D1,2,3,4 / 0 / 0 English, French, Dutch Caribbean American Virgin Islands / 28 [w/e 15 Jul 2016] / 15 / 15 / D? / 0 / 0 Jamaica / 28 [w/e 15 Jul 2016] / 1354 / 102 / D3,4, / 2 / 0 Andean Bolivia / 27 [w/e 8 Jul 2016] / 27 607 / 3512 / D? / 35 / 0 Colombia / 29 [w/e 22 Jul 2016] / 76 738 / 21 899 / D1,2,3,4 / 802 / 210 Ecuador / 29 [w/e 22 Jul 2016] / 11 512 / 11 512 / D? / 32 / 3 Peru / 29 [w/e 22 Jul 2016] / 27 205 / 13 192 / D1,2,3 / 84 / 28 Southern Cone Argentina / 28 [w/e 15 Jul 2016] / 76 272 / 40 649 / D1,4 / - / 11 Brazil / 27 [w/e 8 Jul 2016] / 1 399 480 / 252 864 / D1,2,3,4 / 639 / 419 Paraguay / 27 [w/e 8 Jul 2016] / 113 028 / 2535 / D1,3,4 / - / 16 [Maps showing the location of the affected islands and countries in the Americas mentioned above and below can be accessed at ; North America at ; Central America at ; Caribbean ; and South America at . - Mod.TY] Cases in various countries not mentioned above or more recent case numbers. Mexico and Central America --- Mexico - National. 16 Aug 2016. Dengue (reported) Guerrero 1503 cases, Veracruz 652 cases, Chiapas 570 cases, Yucat�n 98 cases of which 38 DHF/serious. [in Spanish] - Tamaulipas state. 8 Aug 2016. Dengue (conf.) 91 cases. Municipalities most affected: Reynosa 42 cases, Tampico 39 cases, Matamoros 37 cases, Altamira 25 cases, Victoria 18 cases, Nuevo Laredo 12 cases. [in Spanish] [As of 19 Aug 2016 the number of cases in Reynosa has increased to 44 () in Spanish] - Michoac�n state. 10 Aug 2016. (reported) 398 cases; DHF/serious 20 cases. [in Spanish] Costa Rica (national). 19 Aug 2016. Dengue (reported) 12 952 cases. Cantons most affected: Atenas 3134 cases, Quepos 2753 cases, Parrita 2333 cases, Osa 1519 cases, Nandayure 1031 cases, Buenos Aires 1001 cases. [in Spanish] [There is a map in this report showing the location of the affected cantons, which are located in the central part of the Pacific coast of the country. - Mod.TY] Nicaragua (national). 17 Aug 2016. (conf?) 4329 cases. [in Spanish] Caribbean --- Barbados (national). 12 Aug 2016. Dengue (susp. and conf.) 1276 cases; deaths. Increasing. South America --- Argentina - National. 16 Aug 2016. The worst dengue outbreak since 2009; (susp.) 32 915, (conf.) 43 888; deaths 11. Provinces most affected: Formosa, Misiones. [in Spanish] - Entre R�os province. 17 Aug 2016. (conf.) 271 cases of which 73 percent locally acquired. Localities in the province with outbreaks: Chajar�, Paran�, Concordia, Villa del Rosario, and San Salvador. [in Spanish] Bolivia (national). 16 Aug 2016. Dengue (registered) 3531 cases. [in Spanish] Brazil (Paran� state). 13 Aug 2016. Dengue (announced) 500 000 doses of Sanofi Pasteur's Dengvaxia(R) have been received in Parana to support a large-scale public dengue immunization program initiated today [13 Aug 2016] in the state's 30 most highly endemic municipalities. 'We are targeting people at highest risk of disease, vaccinating all individuals 15-27 years of age in 28 municipalities and 9-44 years of age in the 2 municipalities with the top dengue burden in the state over the next 3 weeks,' said Michele Caputo Neto, Paran� Health Secretary. Paraguay (national). 9 Aug 2016. Dengue (conf.) as of 1 Jul 2016, 2535 cases. Localities most affected: Central, Paraguar�, Asunci�n, and Boquer�n. [in Spanish] Peru (Piura region). 9 Aug 2016. Dengue (susp.) 4427 cases, (conf.) 3175 cases. Localities affected: Paita 30 cases with 5 locally acquired and 25 imported, Chulucanas, San Juan de Bigote, and Sullana. [in Spanish] -- Communicated by: ProMED-mail ****** [2] Climate and outbreaks Date: Mon 15 Aug 2016 Source: Microfinance Monitor [edited] Epidemics of dengue are linked to high temperatures brought by the El Ni�o weather phenomenon, a University of Florida [UF] scientist working with an international team of researchers has found, which in turn links it to the emerging threat of global warming. The findings coincide with the emergence of the most intense El Ni�o in nearly 2 decades in the Pacific, raising the concern that a major increase in dengue cases will occur throughout Southeast Asian countries early next year [2017]. UF biology professor Derek Cummings and his team found that an increase in dengue incidence swept through 8 countries of Southeast Asia in 1997 and 1998 during an historically intense El Ni�o weather event. 'During years of large incidence, the number of people requiring hospitalization and care can overwhelm health systems. If we can understand the factors that contribute to these increases, we can prepare for them and act to mitigate the impact of the disease,' said Cummings. The dengue virus is transmitted by mosquitoes in the tropics and subtropics, affecting an estimated 390 million a year globally. Though there is no specific pharmaceutical treatment, supportive therapy can greatly improve outcomes. A number of vaccine candidates are in development stage but none is currently licensed. [The Sanofi Pasteur's Dengvaxia(R) vaccine is approved for use in a few countries. - Mod.TY] In addition, the study also found that urban areas act as dengue epidemic 'pacemakers,' giving rise to traveling waves of large epidemics moving to nearby rural areas, as found across Southeast Asia. The international study team involved scientists from 18 institutions around the world and the results of the study appear in the Proceedings of the National Academy of Sciences. -- Communicated by: ProMED-mail [Reference to the paper: van Panhuis WG, Choisy M, Xiong X, et al: Region-wide synchrony and traveling waves of dengue across eight countries in Southeast Asia. Proc Natl Acad Sci USA. 2015; 112(42): 13069-74. doi: 10.1073/pnas.1501375112; available at . Increased transmission could be due to several mechanisms such as more rapid mosquito population buildup through faster development through the larval and pupal stages and a shortening of the extrinsic incubation period in vector mosquitoes, leading to a more rapid period from infection to transmission. If higher temperatures are accompanied by lower precipitation and water shortage, home inhabitants may store more water for household use, providing more breeding sites for vector mosquitoes. - Mod.TY] [See Also: Dengue/DHF update (24): Americas 20160802.4386550 Dengue/DHF update (22): Americas 20160712.4338859 Dengue/DHF update (20): Americas, mosquito saliva/pathogenesis 20160703.4323211 Dengue/DHF update (17): Americas 20160605.4266936 Dengue/DHF update (12): Americas 20160426.4183294 and other items in the archives] .................................................sb/mpp/ty/mj/lm\n"
     ]
    }
   ],
   "source": [
    "print(df[df['idx'] == 7041.0]['post_text'].values[0])"
   ]
  },
  {
   "cell_type": "code",
   "execution_count": null,
   "metadata": {
    "collapsed": true
   },
   "outputs": [],
   "source": []
  }
 ],
 "metadata": {
  "kernelspec": {
   "display_name": "Python 3",
   "language": "python",
   "name": "python3"
  },
  "language_info": {
   "codemirror_mode": {
    "name": "ipython",
    "version": 3
   },
   "file_extension": ".py",
   "mimetype": "text/x-python",
   "name": "python",
   "nbconvert_exporter": "python",
   "pygments_lexer": "ipython3",
   "version": "3.5.2"
  }
 },
 "nbformat": 4,
 "nbformat_minor": 1
}
