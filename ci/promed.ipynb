{
 "cells": [
  {
   "cell_type": "code",
   "execution_count": 8,
   "metadata": {
    "collapsed": true
   },
   "outputs": [],
   "source": [
    "import pandas as pd\n",
    "import csv\n",
    "from datetime import datetime\n",
    "\n",
    "csv_file_path = 'promed_dengue.csv'"
   ]
  },
  {
   "cell_type": "code",
   "execution_count": 9,
   "metadata": {
    "collapsed": false
   },
   "outputs": [
    {
     "data": {
      "text/html": [
       "<div>\n",
       "<table border=\"1\" class=\"dataframe\">\n",
       "  <thead>\n",
       "    <tr style=\"text-align: right;\">\n",
       "      <th></th>\n",
       "      <th>idx</th>\n",
       "      <th>index</th>\n",
       "      <th>alert_id</th>\n",
       "      <th>title</th>\n",
       "      <th>issue_date</th>\n",
       "      <th>post_text</th>\n",
       "      <th>disease</th>\n",
       "      <th>place</th>\n",
       "      <th>lat</th>\n",
       "      <th>lng</th>\n",
       "    </tr>\n",
       "  </thead>\n",
       "  <tbody>\n",
       "    <tr>\n",
       "      <th>0</th>\n",
       "      <td>0.0</td>\n",
       "      <td>125.0</td>\n",
       "      <td>113.0</td>\n",
       "      <td>PRO&gt; Official secrets and public health</td>\n",
       "      <td>1998-06-22 23:50:00</td>\n",
       "      <td>about ISID | membership | programs | publicat...</td>\n",
       "      <td>Dengue</td>\n",
       "      <td>Cuba</td>\n",
       "      <td>21.62117</td>\n",
       "      <td>-79.036346</td>\n",
       "    </tr>\n",
       "    <tr>\n",
       "      <th>1</th>\n",
       "      <td>1.0</td>\n",
       "      <td>1005.0</td>\n",
       "      <td>636.0</td>\n",
       "      <td>PRO/EDR&gt; Dengue/DHF update 2004 (15)</td>\n",
       "      <td>2004-05-29 23:50:00</td>\n",
       "      <td>about ISID | membership | programs | publicat...</td>\n",
       "      <td>Dengue</td>\n",
       "      <td>Sri Lanka</td>\n",
       "      <td>7.60809</td>\n",
       "      <td>80.704727</td>\n",
       "    </tr>\n",
       "    <tr>\n",
       "      <th>2</th>\n",
       "      <td>2.0</td>\n",
       "      <td>1006.0</td>\n",
       "      <td>636.0</td>\n",
       "      <td>PRO/EDR&gt; Dengue/DHF update 2004 (15)</td>\n",
       "      <td>2004-05-29 23:50:00</td>\n",
       "      <td>about ISID | membership | programs | publicat...</td>\n",
       "      <td>Dengue</td>\n",
       "      <td>Venezuela</td>\n",
       "      <td>7.12245</td>\n",
       "      <td>-66.169563</td>\n",
       "    </tr>\n",
       "    <tr>\n",
       "      <th>3</th>\n",
       "      <td>3.0</td>\n",
       "      <td>1007.0</td>\n",
       "      <td>636.0</td>\n",
       "      <td>PRO/EDR&gt; Dengue/DHF update 2004 (15)</td>\n",
       "      <td>2004-05-29 23:50:00</td>\n",
       "      <td>about ISID | membership | programs | publicat...</td>\n",
       "      <td>Dengue</td>\n",
       "      <td>Indonesia</td>\n",
       "      <td>-2.63580</td>\n",
       "      <td>120.937500</td>\n",
       "    </tr>\n",
       "    <tr>\n",
       "      <th>4</th>\n",
       "      <td>4.0</td>\n",
       "      <td>1008.0</td>\n",
       "      <td>636.0</td>\n",
       "      <td>PRO/EDR&gt; Dengue/DHF update 2004 (15)</td>\n",
       "      <td>2004-05-29 23:50:00</td>\n",
       "      <td>about ISID | membership | programs | publicat...</td>\n",
       "      <td>Dengue</td>\n",
       "      <td>India</td>\n",
       "      <td>22.88348</td>\n",
       "      <td>79.616203</td>\n",
       "    </tr>\n",
       "  </tbody>\n",
       "</table>\n",
       "</div>"
      ],
      "text/plain": [
       "   idx   index  alert_id                                    title  \\\n",
       "0  0.0   125.0     113.0  PRO> Official secrets and public health   \n",
       "1  1.0  1005.0     636.0     PRO/EDR> Dengue/DHF update 2004 (15)   \n",
       "2  2.0  1006.0     636.0     PRO/EDR> Dengue/DHF update 2004 (15)   \n",
       "3  3.0  1007.0     636.0     PRO/EDR> Dengue/DHF update 2004 (15)   \n",
       "4  4.0  1008.0     636.0     PRO/EDR> Dengue/DHF update 2004 (15)   \n",
       "\n",
       "           issue_date                                          post_text  \\\n",
       "0 1998-06-22 23:50:00   about ISID | membership | programs | publicat...   \n",
       "1 2004-05-29 23:50:00   about ISID | membership | programs | publicat...   \n",
       "2 2004-05-29 23:50:00   about ISID | membership | programs | publicat...   \n",
       "3 2004-05-29 23:50:00   about ISID | membership | programs | publicat...   \n",
       "4 2004-05-29 23:50:00   about ISID | membership | programs | publicat...   \n",
       "\n",
       "  disease      place       lat         lng  \n",
       "0  Dengue       Cuba  21.62117  -79.036346  \n",
       "1  Dengue  Sri Lanka   7.60809   80.704727  \n",
       "2  Dengue  Venezuela   7.12245  -66.169563  \n",
       "3  Dengue  Indonesia  -2.63580  120.937500  \n",
       "4  Dengue      India  22.88348   79.616203  "
      ]
     },
     "execution_count": 9,
     "metadata": {},
     "output_type": "execute_result"
    }
   ],
   "source": [
    "df = pd.read_csv(csv_file_path, names=['idx', 'index', 'alert_id', 'title', 'issue_date', 'post_text', 'disease', 'place', 'lat', 'lng'], header=0, sep=',', parse_dates=[4], quoting=csv.QUOTE_NONNUMERIC)\n",
    "df.head()"
   ]
  },
  {
   "cell_type": "code",
   "execution_count": 10,
   "metadata": {
    "collapsed": false
   },
   "outputs": [
    {
     "name": "stdout",
     "output_type": "stream",
     "text": [
      "3\n"
     ]
    }
   ],
   "source": [
    "#filter the tweets that are not in South or Central America\n",
    "df['lat'] = df['lat'].astype('float64')\n",
    "df['lng'] = df['lng'].astype('float64')\n",
    "df['issue_date'] = pd.to_datetime(df['issue_date'], format='%Y-%m-%d %H:%M:%S')\n",
    "\n",
    "df.set_index('idx')\n",
    "\n",
    "df = df[df['lat'] < 23]\n",
    "df = df[df['lat'] > -56]\n",
    "df = df[df['lng'] < -34]\n",
    "df = df[df['lng'] > -107]\n",
    "\n",
    "df = df[df['issue_date'] > datetime(2016,1,1)]\n",
    "df = df[df['issue_date'] < datetime(2016,4,1)]\n",
    "df = df[df['place'] == 'Brazil']\n",
    "\n",
    "print(df['idx'].count())"
   ]
  },
  {
   "cell_type": "code",
   "execution_count": 11,
   "metadata": {
    "collapsed": false
   },
   "outputs": [
    {
     "data": {
      "text/html": [
       "<div>\n",
       "<table border=\"1\" class=\"dataframe\">\n",
       "  <thead>\n",
       "    <tr style=\"text-align: right;\">\n",
       "      <th></th>\n",
       "      <th>idx</th>\n",
       "      <th>index</th>\n",
       "      <th>alert_id</th>\n",
       "      <th>title</th>\n",
       "      <th>issue_date</th>\n",
       "      <th>post_text</th>\n",
       "      <th>disease</th>\n",
       "      <th>place</th>\n",
       "      <th>lat</th>\n",
       "      <th>lng</th>\n",
       "    </tr>\n",
       "  </thead>\n",
       "  <tbody>\n",
       "    <tr>\n",
       "      <th>5101</th>\n",
       "      <td>6844.0</td>\n",
       "      <td>82790.0</td>\n",
       "      <td>4049661.0</td>\n",
       "      <td>PRO/EDR&gt; Dengue/DHF update (05): Americas, Asi...</td>\n",
       "      <td>2016-02-25 13:39:00</td>\n",
       "      <td>DENGUE/DHF UPDATE (05): AMERICAS, ASIA, PACIFI...</td>\n",
       "      <td>Dengue</td>\n",
       "      <td>Brazil</td>\n",
       "      <td>-10.77311</td>\n",
       "      <td>-53.089821</td>\n",
       "    </tr>\n",
       "    <tr>\n",
       "      <th>5075</th>\n",
       "      <td>6818.0</td>\n",
       "      <td>82659.0</td>\n",
       "      <td>4028506.0</td>\n",
       "      <td>PRO/EDR&gt; Dengue/DHF update (04): Americas, Asi...</td>\n",
       "      <td>2016-02-17 13:50:00</td>\n",
       "      <td>DENGUE/DHF UPDATE (04): AMERICAS, ASIA, PACIFI...</td>\n",
       "      <td>Dengue</td>\n",
       "      <td>Brazil</td>\n",
       "      <td>-10.77311</td>\n",
       "      <td>-53.089821</td>\n",
       "    </tr>\n",
       "    <tr>\n",
       "      <th>5050</th>\n",
       "      <td>6793.0</td>\n",
       "      <td>82385.0</td>\n",
       "      <td>3970962.0</td>\n",
       "      <td>PRO/EDR&gt; Dengue/DHF update (02): Americas, Asi...</td>\n",
       "      <td>2016-01-27 20:08:00</td>\n",
       "      <td>DENGUE/DHF UPDATE (02): AMERICAS, ASIA, MIDDLE...</td>\n",
       "      <td>Dengue</td>\n",
       "      <td>Brazil</td>\n",
       "      <td>-10.77311</td>\n",
       "      <td>-53.089821</td>\n",
       "    </tr>\n",
       "  </tbody>\n",
       "</table>\n",
       "</div>"
      ],
      "text/plain": [
       "         idx    index   alert_id  \\\n",
       "5101  6844.0  82790.0  4049661.0   \n",
       "5075  6818.0  82659.0  4028506.0   \n",
       "5050  6793.0  82385.0  3970962.0   \n",
       "\n",
       "                                                  title          issue_date  \\\n",
       "5101  PRO/EDR> Dengue/DHF update (05): Americas, Asi... 2016-02-25 13:39:00   \n",
       "5075  PRO/EDR> Dengue/DHF update (04): Americas, Asi... 2016-02-17 13:50:00   \n",
       "5050  PRO/EDR> Dengue/DHF update (02): Americas, Asi... 2016-01-27 20:08:00   \n",
       "\n",
       "                                              post_text disease   place  \\\n",
       "5101  DENGUE/DHF UPDATE (05): AMERICAS, ASIA, PACIFI...  Dengue  Brazil   \n",
       "5075  DENGUE/DHF UPDATE (04): AMERICAS, ASIA, PACIFI...  Dengue  Brazil   \n",
       "5050  DENGUE/DHF UPDATE (02): AMERICAS, ASIA, MIDDLE...  Dengue  Brazil   \n",
       "\n",
       "           lat        lng  \n",
       "5101 -10.77311 -53.089821  \n",
       "5075 -10.77311 -53.089821  \n",
       "5050 -10.77311 -53.089821  "
      ]
     },
     "execution_count": 11,
     "metadata": {},
     "output_type": "execute_result"
    }
   ],
   "source": [
    "df = df.sort_values(by='issue_date', ascending=False)\n",
    "df.head()"
   ]
  },
  {
   "cell_type": "code",
   "execution_count": 12,
   "metadata": {
    "collapsed": false
   },
   "outputs": [
    {
     "name": "stdout",
     "output_type": "stream",
     "text": [
      "DENGUE/DHF UPDATE (05): AMERICAS, ASIA, PACIFIC *********************************************** A ProMED-mail post ProMED-mail is a program of the International Society for Infectious Diseases In this update: [1] Cases in various countries: Americas regional --- Cases in various countries not mentioned above or more recent case numbers. USA ---- USA Hawaii (Big Island) Central America --- Costa Rica (national) Nicaragua (national) Caribbean --- Jamaica (national) South America --- Argentina - National - Buenos Aires province - Cordoba province - Misiones province - Santa Fe province Brazil (national) Chile (Easter Island) Colombia (national) Paraguay - National - Pedro Juan Caballero, Amambay department Uruguay - National - Salto department Asia --- Philippines - Iloilo province - South Cotabato province, Soccsksargen region Malaysia (Penang state) Singapore clusters India - Maharashtra state - Kothrud, Pune, Maharashtra state Sri Lanka (national) Pakistan (Sindh province) Pacific --- Australia (northern Queensland state) Fiji (national) [2] Singapore: El Nino effect ****** Cases in various countries Americas --- Americas Regional WHO/PAHO report 24 Feb 2016 Reported cases of dengue fever in the Americas, by country or territory to EW 6 of 2016 [week ending (w/e) 12 Feb 2016]. Cases reported earlier than EW 3 [w/e 22 Jan 2016] are not included here, but are available at the URL above. ---------------------------------------------------------------------- Cases by Country / Week updated / Probable/ Conf. / Virus type / DHF severe / Deaths Central America and Mexico Costa Rica / 5 [w/e 5 Feb 2016] / 3253 / 0 / D 1,2,3, / 0 / 0 El Salvador / 5 [w/e 5 Feb 2016] / 1743 / 30 / D? / 3 / 0 Guatemala / 5 [w/e 5 Feb 2016] / 793 / 0 / D 1,2,3,4 / 0 / 0 Honduras / 4 [w/e 29 Jan 2016] / 2644 / 0 / D? / 53 / 0 Mexico / 6 [w/e 12 Feb 2016] / 8448 / 1149 / D 1,2,3,4 / 381 / 0 Nicaragua / 5 [w/e 5 Feb 2016] / 4544 / 635 / D ? / 0 / 0 Hispanic Caribbean Dominican Republic / 4 [w/e 29 Jan 2016] / 1235 / 0 / D ? / 124 / 7 English, French, Dutch Caribbean French Guiana / 4 [w/e 29 Jan 2016] / 545 / 15 / D 1,2 / 0 / 0 Guadeloupe / 4 [w/e 29 Jan 2016] / 9 / 9 / D? / 0 / 0 Jamaica / 4 [w/e 29 Jan 2016] / 26 / 12 / D? / 0 / 0 Martinique / 4 [w/e 29 Jan 2016] / 16 / 16 / D? / 0 / 0 St Barthelemy / 4 [w/e 29 Jan 2016] / 26 / 26 / D? / 0 / 0 Andean Colombia / 6 [w/e 12 Feb 2016] / 16 414 / 5069 / D ? / 245 / 60 Ecuador / 6 [w/e 12 Feb 2016] / 1981 / 1981 / D? / 3 / 0 Peru / 5 [w/e 5 Feb 2016] / 2681 / 886 / D? / 13 / 5 Southern Cone Argentina / 6 [w/e 12 Feb 2016] / 9190 / 2972 / D 1, 2, 3 / 0 / Brazil / 4 [w/e 29 Jan 2016] / 116 966 / 10 352 / D 1, 2, 3, 4 / 19 / 7 Uruguay / 6 [w/e 12 Feb 2016] / 206 / 3 / D 1 / 0 / 0 [Maps showing the location of the affected islands and countries in the Americas mentioned above and below can be accessed at and ; North America at ; Central America at ; and South America at . - Mod.TY] Cases in various countries not mentioned above or more recent case numbers. USA --- Hawaii (Big Island). 19 Feb 2016. Dengue (conf.) 259 cases with 234 residents, 25 visitors, and 46 children. Central America --- Costa Rica (national). 22 Feb 2016. Dengue (conf.) 3253 cases in 73 of 81 cantons. Provinces most affected: Alajuela 1081 cases, Puntarenas 845 cases. Nicaragua (national). 24 Feb 2016. (reported) deaths 4 [total case count not given] [in Spanish] Caribbean --- Jamaica (national). 20 Feb 2016. (reported) week ending 20 Feb 2016, 23 cases, not clear if imported or locally acquired. South America --- Argentina - National. 13 Feb 2015. (reported) 4856 cases of which 70 percent locally acquired. Dengue viruses circulating, DENV 1, 2, 3, 4. - Buenos Aires province. 15 Feb 2016. Dengue (conf.) 158 cases of which 23 locally acquired. [in Spanish] - Cordoba province. 23 Feb 2016. (reported) 106 cases of which 44 locally acquired. [in Spanish] - Misiones province. 18 Feb 2016. (conf.) 3987 cases, with 200 cases per day diagnosed. Health emergency declared. Municipalities most affected: Posadas, Puerto Iguazu. [in Spanish] - Santa Fe province. 22 Feb 2016. Dengue (conf.) 201 cases of which 111 locally acquired. Municipalities most affected: Rosario 119 cases, Santa Fe 42 cases, Reconquista 33 cases. [in Spanish] Brazil (national). 23 Feb 2016. Dengue (reported) 73 872 cases; DHF/serious (conf.) 9; deaths (conf.) 4. States most affected, incidence of cases per 100 000 population: Mato Grosso do Sul 114.8, Tocantins 103, Espirito Santo 93, Minas Gerais 93.3. Dengue viruses circulating: DENV-1 94 percent of samples tested followed by DENV-4 (4.8 percent), DENV-2 (0.7 percent), DENV-3 (0.4 percent). Chile (Easter Island). 19 Feb 2016. Dengue (reported) 14 cases, of which 10 new cases. Colombia (national). 20 Feb 2016. Dengue (notified) 16 414 cases; Deaths 60. Departments most affected: Boyaca, Cundinamarca, Putumayo, and Arauca. [in Spanish] Paraguay - National. 17 Feb 2016. Dengue (conf.) 619 cases; deaths 5. Increasing. [in Spanish] - Pedro Juan Caballero, Amambay department. 21 Feb 2016. Dengue (conf.) more than 600 cases. [in Spanish] Uruguay - National. 22 Feb 2016. Dengue (susp.) As of 13 Feb 2016, 9 cases locally acquired (7 in Montevideo and 1 each in Salto and San Jose departments), 8 cases imported. [in Spanish] [A 20 Feb 2016 report indicated that there is a 2nd locally acquired case ( [in Spanish] - Salto department. 23 Feb 2016. (conf.) 1st case, not stated if locally acquired or imported. [in Spanish] Asia --- Philippines - Iloilo province. 17 Feb 2016. Dengue (reported) 158 cases; deaths 1. Increase over last year attributed to El Nino effects. [Maps of the Philippines can be accessed at and . - Mod.TY] - South Cotabato province, Soccsksargen region. 15 Feb 2016. Dengue (reported) 33 cases; deaths 2. Malaysia (Penang state). 23 Feb 2016. Dengue (reported) 1014 cases; deaths 9. [Maps of Malaysia can be accessed at and . - Mod.TY] Singapore clusters. 23 Feb 2016. Dengue (reported) clusters in localities; Tampines 278 cases since November 2015 but now closed. Yishun Ring Road and Yishun Street 81 have 109 cases. [Maps of Singapore can be accessed at and . - Mod.TY] India - Maharashtra state. 14 Feb 2016. Dengue (reported) in January, 2016, 174 cases with 25 from Mumbai. [Maps of India can be accessed at and . - Mod.TY] - Kothrud, Pune, Maharashtra state. 15 Feb 2016. Dengue (susp.) 73 cases, (conf.) 30 cases; deaths (susp.) 1 Sri Lanka (national). 24 Feb 2016. Dengue (reported) 8506 cases. Districts most affected: Colombo 2863 cases, Gampaha 981 cases, Jaffna 825 cases. Increasing. [Maps of Sri Lanka can be accessed at and . - Mod.TY] Pakistan (Sindh province). 19 Feb 2016. Dengue (reported) 219 cases, of which 19 new cases in past week, with 17 in Karachi. [Maps of Pakistan can be accessed at and . - Mod.TY] Pacific --- Australia (northern Queensland state). 22 Feb 2016. (conf.) 1 case locally acquired, warning issued [indicating other undetected cases are present. - Mod.TY] [Maps of Australia can be accessed at and . - Mod.TY] Fiji (national). 18 Feb 2016. Dengue (conf.) 94 cases. Divisions affected: Northern 56 cases, Western 36 cases, Central 5 cases. Increasing. [Maps of Fiji can accessed at and . - Mod.TY] -- Communicated by: ProMED-mail ****** [2] Singapore: El Nino effect Date: Fri 19 Feb 2016 Source: Today [edited] The ongoing El Nino phenomenon, along with a change in the type of dengue virus circulating among Singapore's population, have led the authorities to forecast a historic high of 30 000 dengue cases this year [2016], nearly 1/3rd higher than the previous record of 22 170 cases in 2013. And with the looming threat of the Zika virus -- also spread by the _Aedes aegypti_ mosquito -- adding greater urgency to the need to control the mosquito population, the authorities will be taking early action. In a media briefing by the National Environment Agency (NEA), the Ministry of Health (MOH) and People's Association (PA) on [Thu 18 Feb 2016], the authorities announced that the annual Mozzie Wipeout Campaign, held usually around April, will be launched on [28 Feb 2016]. The PA has roped in more than 5000 grassroots leaders and volunteers for house visits targeting areas with a high number of dengue cases, adding to the more than 5800 NEA-trained volunteers who will advise residents on anti-mosquito breeding and dengue prevention tips. An NEA spokesperson also said the agency would be implementing more stringent enforcement measures, such as increasing the frequency of inspections at major construction sites from quarterly to monthly. In preparation for the surge in cases, the NEA, which provides dengue diagnostic services to primary healthcare clinics and hospitals, has increased the number of laboratory staff and extended operating hours, by mobilising staff from other research groups. In an article on the dengue outlook for the year [2016] in MOH's epidemiological news bulletin published last month [January 2016], researchers noted that the effects of El Nino will contribute to a rise in cases in the coming months. After El Nino peaked in December 1997, there was a spike in dengue cases in January 1998, followed by another in August [1998]. The latest episode of El Nino, which quickens the breeding and maturation cycles of the _Aedes_ mosquito, began last year [2015], which saw over 11 200 reported dengue cases. There has been a 50 percent increase in _Aedes_ mosquitoes caught in the NEA's Gravitraps in January [2016] compared to the same period last year. Household inspections also turned up 50 percent more breeding sites as compared to the same period last January, with top breeding spots being domestic containers and flower pot plates or trays. In addition, the DENV-2 virus serotype now accounts for 2/3rds of all dengue cases, replacing DENV-1 as the predominant strain. Historically, a change in the predominant virus serotype is usually followed by a spike in dengue cases. The last serotype switch -- from DENV-2 to DENV-1 -- in 2013 was followed by a sharp dengue outbreak that year. Associate Professor Ooi Eng Eong, deputy director of the Duke-NUS Medical School's Emerging Infectious Disease Programme, said that while dengue forecasting 'is an imperfect science as we don't fully understand all the determinants,' a high number of cases is to be expected this year [2016] based on dengue trends so far. Infectious diseases professor Annelies Wilder-Smith from Nanyang Technological University's Lee Kong Chian School of Medicine, concurred that the unusual climate conditions, combined with the virus serotype switch, have set the stage for a high epidemic year. 'Furthermore, Singapore has had further population growth. Population density enhances the biting rates and facilitates transmission of dengue virus. With an increasing population size, the absolute numbers of dengue also increase, even if the incidence remains the same,' she added. More than 3600 dengue cases have been reported in Singapore since January [2016], with 2 deaths so far. In previous years, the NEA has stepped up inspections when the number of dengue cases spiked. In 2014 -- when there were 18 335 reported cases -- the NEA deployed 850 dengue inspectors who conducted more than 3.5 million inspections and destroyed over 18 400 mosquito breeding habitats. Last year [2015], the NEA conducted more than 1.4 million inspections and uncovered more than 19 000 instances of mosquito breeding. [Byline: Louisa Tang] -- Communicated by: ProMED-MBDS [On 1 Feb 2016, based on recommendations of the International Health Regulations Emergency Committee, WHO declared the increasing cases of neonatal and neurological disorders, amid the growing Zika outbreak in the Americas, a Public Health Emergency of International Concern. WHO has launched a global Strategic Response Framework and Joint Operations Plan to guide the international response to the spread of Zika virus infection and the neonatal malformations and neurological conditions associated with it. The strategy focuses on mobilizing and coordinating partners, experts and resources to help countries enhance surveillance of the Zika virus and disorders that could be linked to it, improve vector control, effectively communicate risks, guidance and protection measures, provide medical care to those affected and fast-track research and development of vaccines, diagnostics and therapeutics (). The prospect of dengue prevention and control, especially the containment of the _Aedes aegypti_ mosquito spread, is compounded by the advent of Zika virus. While proper case management of severe cases of dengue may result in lower case fatality rate, managing microcephaly is quite different and even worse, '80 percent of [Zika virus] infections cause no symptoms.' (). - Mod.ST] [See Also: Dengue/DHF update (04): Americas, Asia, Pacific, Middle East 20160217.4028506 Dengue/DHF update (03): Americas, Asia, Pacific 20160207.4001446 Dengue/DHF update (02): Americas, Asia, Middle East, Africa, Pacific 20160127.3970962 2015 ---- Dengue/DHF update (38): Americas, Asia, Africa 20151222.3885256 Dengue/DHF update (08): Asia, Pacific, Africa 20150319.3239208 2012 ---- Dengue/DHF update 2012 (65) Americas 20121210.1443572] .................................................sb/dk/sh/lm/st/ty/mj/lm\n"
     ]
    }
   ],
   "source": [
    "print(df[df['idx'] == 6844]['post_text'].values[0])"
   ]
  },
  {
   "cell_type": "code",
   "execution_count": null,
   "metadata": {
    "collapsed": true
   },
   "outputs": [],
   "source": []
  }
 ],
 "metadata": {
  "kernelspec": {
   "display_name": "Python 3",
   "language": "python",
   "name": "python3"
  },
  "language_info": {
   "codemirror_mode": {
    "name": "ipython",
    "version": 3
   },
   "file_extension": ".py",
   "mimetype": "text/x-python",
   "name": "python",
   "nbconvert_exporter": "python",
   "pygments_lexer": "ipython3",
   "version": "3.5.2"
  }
 },
 "nbformat": 4,
 "nbformat_minor": 1
}
